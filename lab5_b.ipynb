{
  "nbformat": 4,
  "nbformat_minor": 0,
  "metadata": {
    "colab": {
      "provenance": [],
      "authorship_tag": "ABX9TyNHAa4lEtnEJ63Uqrq4c+4j",
      "include_colab_link": true
    },
    "kernelspec": {
      "name": "python3",
      "display_name": "Python 3"
    },
    "language_info": {
      "name": "python"
    }
  },
  "cells": [
    {
      "cell_type": "markdown",
      "metadata": {
        "id": "view-in-github",
        "colab_type": "text"
      },
      "source": [
        "<a href=\"https://colab.research.google.com/github/DhavanBNaik-CS/ML_Lab/blob/main/lab5_b.ipynb\" target=\"_parent\"><img src=\"https://colab.research.google.com/assets/colab-badge.svg\" alt=\"Open In Colab\"/></a>"
      ]
    },
    {
      "cell_type": "code",
      "execution_count": 1,
      "metadata": {
        "colab": {
          "base_uri": "https://localhost:8080/"
        },
        "id": "NX6_5yjCLhcx",
        "outputId": "1050a674-2a8f-4859-9034-2be2b7551084"
      },
      "outputs": [
        {
          "output_type": "stream",
          "name": "stdout",
          "text": [
            "Mounted at //content/drive\n"
          ]
        }
      ],
      "source": [
        "from google.colab import drive\n",
        "drive.mount('//content/drive')"
      ]
    },
    {
      "cell_type": "code",
      "source": [
        "!pip install bayespy"
      ],
      "metadata": {
        "colab": {
          "base_uri": "https://localhost:8080/"
        },
        "id": "KkVoKE_BLzDY",
        "outputId": "8f0bc607-027c-4f34-d5aa-2950961c650b"
      },
      "execution_count": 2,
      "outputs": [
        {
          "output_type": "stream",
          "name": "stdout",
          "text": [
            "Looking in indexes: https://pypi.org/simple, https://us-python.pkg.dev/colab-wheels/public/simple/\n",
            "Collecting bayespy\n",
            "  Downloading bayespy-0.5.25.tar.gz (401 kB)\n",
            "\u001b[?25l     \u001b[90m━━━━━━━━━━━━━━━━━━━━━━━━━━━━━━━━━━━━━━━━\u001b[0m \u001b[32m0.0/401.7 kB\u001b[0m \u001b[31m?\u001b[0m eta \u001b[36m-:--:--\u001b[0m\r\u001b[2K     \u001b[91m━━━━━━━━━━━━━━━━━━━━━━━━━━━━━━\u001b[0m\u001b[91m╸\u001b[0m\u001b[90m━━━━━━━━\u001b[0m \u001b[32m317.4/401.7 kB\u001b[0m \u001b[31m9.4 MB/s\u001b[0m eta \u001b[36m0:00:01\u001b[0m\r\u001b[2K     \u001b[90m━━━━━━━━━━━━━━━━━━━━━━━━━━━━━━━━━━━━━━━\u001b[0m \u001b[32m401.7/401.7 kB\u001b[0m \u001b[31m8.2 MB/s\u001b[0m eta \u001b[36m0:00:00\u001b[0m\n",
            "\u001b[?25h  Preparing metadata (setup.py) ... \u001b[?25l\u001b[?25hdone\n",
            "Requirement already satisfied: numpy>=1.10.0 in /usr/local/lib/python3.10/dist-packages (from bayespy) (1.22.4)\n",
            "Requirement already satisfied: scipy>=0.13.0 in /usr/local/lib/python3.10/dist-packages (from bayespy) (1.10.1)\n",
            "Requirement already satisfied: h5py in /usr/local/lib/python3.10/dist-packages (from bayespy) (3.8.0)\n",
            "Building wheels for collected packages: bayespy\n",
            "  Building wheel for bayespy (setup.py) ... \u001b[?25l\u001b[?25hdone\n",
            "  Created wheel for bayespy: filename=bayespy-0.5.25-py3-none-any.whl size=377588 sha256=026873b8b245c42aea3ba7f33126842628ecd6c9884b72744c1d6a0fd4c123a9\n",
            "  Stored in directory: /root/.cache/pip/wheels/fd/ae/c0/0140f31aa4575be0f2279df7dffcaf16ed8ca7fd33e9682bea\n",
            "Successfully built bayespy\n",
            "Installing collected packages: bayespy\n",
            "Successfully installed bayespy-0.5.25\n"
          ]
        }
      ]
    },
    {
      "cell_type": "code",
      "source": [
        "\n",
        "import pandas as pd\n",
        "import bayespy as bp\n",
        "import numpy as np\n",
        "import csv\n",
        "!pip3 install colorama\n",
        "!pip3 install colorama\n",
        "from colorama import init\n",
        "from colorama import Fore, Back, Style\n",
        "init()"
      ],
      "metadata": {
        "colab": {
          "base_uri": "https://localhost:8080/"
        },
        "id": "O_io1dXaMado",
        "outputId": "667b1005-c6cc-4289-9adb-9a90bb3f27f1"
      },
      "execution_count": 3,
      "outputs": [
        {
          "output_type": "stream",
          "name": "stdout",
          "text": [
            "Looking in indexes: https://pypi.org/simple, https://us-python.pkg.dev/colab-wheels/public/simple/\n",
            "Collecting colorama\n",
            "  Downloading colorama-0.4.6-py2.py3-none-any.whl (25 kB)\n",
            "Installing collected packages: colorama\n",
            "Successfully installed colorama-0.4.6\n",
            "Looking in indexes: https://pypi.org/simple, https://us-python.pkg.dev/colab-wheels/public/simple/\n",
            "Requirement already satisfied: colorama in /usr/local/lib/python3.10/dist-packages (0.4.6)\n"
          ]
        }
      ]
    },
    {
      "cell_type": "code",
      "source": [
        "# Define Parameter Enum values\n",
        "# Age\n",
        "ageEnum = {'SuperSeniorCitizen': 0, 'SeniorCitizen': 1,\n",
        "           'MiddleAged': 2, 'Youth': 3, 'Teen': 4}\n",
        "# Gender\n",
        "genderEnum = {'Male': 0, 'Female': 1}\n",
        "# FamilyHistory\n",
        "familyHistoryEnum = {'Yes': 0, 'No': 1}\n",
        "# Diet(Calorie Intake)\n",
        "dietEnum = {'High': 0, 'Medium': 1, 'Low': 2}\n",
        "# LifeStyle\n",
        "lifeStyleEnum = {'Athlete': 0, 'Active': 1, 'Moderate': 2, 'Sedetary': 3}\n",
        "# Cholesterol\n",
        "cholesterolEnum = {'High': 0, 'BorderLine': 1, 'Normal': 2}\n",
        "# HeartDisease\n",
        "heartDiseaseEnum = {'Yes': 0, 'No': 1}"
      ],
      "metadata": {
        "id": "cp4p2iYgMmjy"
      },
      "execution_count": 4,
      "outputs": []
    },
    {
      "cell_type": "code",
      "source": [
        "data = pd.read_csv(\"/content/drive/MyDrive/ml_lab/lab5_heartDisease_dta.csv\")"
      ],
      "metadata": {
        "id": "d3nDXYU8MsUp"
      },
      "execution_count": 5,
      "outputs": []
    },
    {
      "cell_type": "code",
      "source": [
        "data =np.array(data, dtype='int8')\n",
        "N = len(data)\n",
        "     "
      ],
      "metadata": {
        "id": "FbKuJ5k5M9Sq"
      },
      "execution_count": 6,
      "outputs": []
    },
    {
      "cell_type": "code",
      "source": [
        "# Input data column assignment\n",
        "p_age = bp.nodes.Dirichlet(1.0*np.ones(5))\n",
        "age = bp.nodes.Categorical(p_age, plates=(N,))\n",
        "age.observe(data[:, 0])\n",
        "\n",
        "p_gender = bp.nodes.Dirichlet(1.0*np.ones(2))\n",
        "gender = bp.nodes.Categorical(p_gender, plates=(N,))\n",
        "gender.observe(data[:, 1])\n",
        "\n",
        "p_familyhistory = bp.nodes.Dirichlet(1.0*np.ones(2))\n",
        "familyhistory = bp.nodes.Categorical(p_familyhistory, plates=(N,))\n",
        "familyhistory.observe(data[:, 2])\n",
        "\n",
        "p_diet = bp.nodes.Dirichlet(1.0*np.ones(3))\n",
        "diet = bp.nodes.Categorical(p_diet, plates=(N,))\n",
        "diet.observe(data[:, 3])\n",
        "\n",
        "p_lifestyle = bp.nodes.Dirichlet(1.0*np.ones(4))\n",
        "lifestyle = bp.nodes.Categorical(p_lifestyle, plates=(N,))\n",
        "lifestyle.observe(data[:, 4])\n",
        "\n",
        "p_cholesterol = bp.nodes.Dirichlet(1.0*np.ones(3))\n",
        "cholesterol = bp.nodes.Categorical(p_cholesterol, plates=(N,))\n",
        "cholesterol.observe(data[:, 5])"
      ],
      "metadata": {
        "id": "wYFpYlfXNAC_"
      },
      "execution_count": 7,
      "outputs": []
    },
    {
      "cell_type": "code",
      "source": [
        "p_heartdisease = bp.nodes.Dirichlet(np.ones(2), plates=(5, 2, 2, 3, 4, 3))\n",
        "heartdisease = bp.nodes.MultiMixture(\n",
        "    [age, gender, familyhistory, diet, lifestyle, cholesterol], bp.nodes.Categorical, p_heartdisease)\n",
        "heartdisease.observe(data[:, 6])\n",
        "p_heartdisease.update()\n",
        "     \n",
        "\n",
        "#print(\"Sample Probability\")\n",
        "#print(\"Probability(HeartDisease|Age=SuperSeniorCitizen, Gender=Female, FamilyHistory=Yes, DietIntake=Medium, LifeStyle=Sedetary, Cholesterol=High)\") \n",
        "#print(bp.nodes.MultiMixture([ageEnum['SuperSeniorCitizen'], genderEnum['Female'], familyHistoryEnum['Yes'], dietEnum['Medium'], lifeStyleEnum['Sedetary'], cholesterolEnum['High']], bp.nodes.Categorical, p_heartdisease).get_moments()[0] [heartDiseaseEnum['Yes']])\n",
        "\n",
        "# Interactive Test\n",
        "m = 0\n",
        "while m == 0:\n",
        "    print(\"\\n\")\n",
        "    res = bp.nodes.MultiMixture([int(input('Enter Age: ' + str(ageEnum))), int(input('Enter Gender: ' + str(genderEnum))), int(input('Enter FamilyHistory: ' + str(familyHistoryEnum))), int(input('Enter dietEnum: ' + str(\n",
        "        dietEnum))), int(input('Enter LifeStyle: ' + str(lifeStyleEnum))), int(input('Enter Cholesterol: ' + str(cholesterolEnum)))], bp.nodes.Categorical, p_heartdisease).get_moments()[0][heartDiseaseEnum['Yes']]\n",
        "    print(\"Probability(HeartDisease) = \" + str(res))\n",
        "\n",
        "# print(Style.RESET_ALL)\n",
        "    m = int(input(\"Enter for Continue:0, Exit :1 \"))"
      ],
      "metadata": {
        "colab": {
          "base_uri": "https://localhost:8080/"
        },
        "id": "BT7hcILeNCXx",
        "outputId": "eb6167d4-a9ab-4958-ef4b-2dc752628bc9"
      },
      "execution_count": 8,
      "outputs": [
        {
          "name": "stdout",
          "output_type": "stream",
          "text": [
            "\n",
            "\n",
            "Enter Age: {'SuperSeniorCitizen': 0, 'SeniorCitizen': 1, 'MiddleAged': 2, 'Youth': 3, 'Teen': 4}0\n",
            "Enter Gender: {'Male': 0, 'Female': 1}1\n",
            "Enter FamilyHistory: {'Yes': 0, 'No': 1}1\n",
            "Enter dietEnum: {'High': 0, 'Medium': 1, 'Low': 2}2\n",
            "Enter LifeStyle: {'Athlete': 0, 'Active': 1, 'Moderate': 2, 'Sedetary': 3}2\n",
            "Enter Cholesterol: {'High': 0, 'BorderLine': 1, 'Normal': 2}2\n",
            "Probability(HeartDisease) = 0.5\n",
            "Enter for Continue:0, Exit :1 0\n",
            "\n",
            "\n",
            "Enter Age: {'SuperSeniorCitizen': 0, 'SeniorCitizen': 1, 'MiddleAged': 2, 'Youth': 3, 'Teen': 4}3\n",
            "Enter Gender: {'Male': 0, 'Female': 1}0\n",
            "Enter FamilyHistory: {'Yes': 0, 'No': 1}0\n",
            "Enter dietEnum: {'High': 0, 'Medium': 1, 'Low': 2}1\n",
            "Enter LifeStyle: {'Athlete': 0, 'Active': 1, 'Moderate': 2, 'Sedetary': 3}3\n",
            "Enter Cholesterol: {'High': 0, 'BorderLine': 1, 'Normal': 2}2\n",
            "Probability(HeartDisease) = 0.5\n",
            "Enter for Continue:0, Exit :1 0\n",
            "\n",
            "\n",
            "Enter Age: {'SuperSeniorCitizen': 0, 'SeniorCitizen': 1, 'MiddleAged': 2, 'Youth': 3, 'Teen': 4}3\n",
            "Enter Gender: {'Male': 0, 'Female': 1}0\n",
            "Enter FamilyHistory: {'Yes': 0, 'No': 1}0\n",
            "Enter dietEnum: {'High': 0, 'Medium': 1, 'Low': 2}2\n",
            "Enter LifeStyle: {'Athlete': 0, 'Active': 1, 'Moderate': 2, 'Sedetary': 3}3\n",
            "Enter Cholesterol: {'High': 0, 'BorderLine': 1, 'Normal': 2}2\n",
            "Probability(HeartDisease) = 0.5\n",
            "Enter for Continue:0, Exit :1 1\n"
          ]
        }
      ]
    },
    {
      "cell_type": "code",
      "source": [],
      "metadata": {
        "id": "hbeb5tVUNFlC"
      },
      "execution_count": null,
      "outputs": []
    }
  ]
}